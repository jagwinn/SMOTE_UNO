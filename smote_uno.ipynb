{
 "cells": [
  {
   "cell_type": "markdown",
   "metadata": {},
   "source": [
    "# SMOTE on Actual UNO data"
   ]
  },
  {
   "cell_type": "code",
   "execution_count": 162,
   "metadata": {},
   "outputs": [],
   "source": [
    "import numpy as np \n",
    "import pandas as pd\n",
    "import tensorflow as tf \n",
    "import matplotlib.pyplot as plt\n",
    "import os\n",
    "from sklearn.linear_model import LogisticRegression\n",
    "from sklearn.preprocessing import StandardScaler\n",
    "from sklearn.metrics import confusion_matrix, classification_report\n",
    "from sklearn.model_selection import train_test_split\n",
    "from imblearn.over_sampling import SMOTE\n",
    "from sklearn.ensemble import RandomForestClassifier\n",
    "from sklearn.preprocessing import StandardScaler"
   ]
  },
  {
   "cell_type": "code",
   "execution_count": 163,
   "metadata": {},
   "outputs": [
    {
     "name": "stderr",
     "output_type": "stream",
     "text": [
      "/var/folders/w_/tv9kwn955c59q5gycbr00lzh0000gn/T/ipykernel_97003/254425380.py:4: DtypeWarning: Columns (3) have mixed types. Specify dtype option on import or set low_memory=False.\n",
      "  df = pd.read_csv(datapath, sep=\"\\t\")\n"
     ]
    }
   ],
   "source": [
    "os.chdir(\"/Users/jakegwinn/Documents/argonne_F24/UNO.jw\")\n",
    "wd = os.getcwd()\n",
    "datapath = os.path.join(wd, \"csa_data/raw_data/y_data/response.tsv\")\n",
    "df = pd.read_csv(datapath, sep=\"\\t\")"
   ]
  },
  {
   "cell_type": "code",
   "execution_count": 164,
   "metadata": {},
   "outputs": [],
   "source": [
    "df1 = df.drop(columns=[\"source\", \"improve_sample_id\", \"improve_chem_id\", \"study\"])\n",
    "df2 = df1.dropna()"
   ]
  },
  {
   "cell_type": "code",
   "execution_count": 165,
   "metadata": {},
   "outputs": [
    {
     "data": {
      "text/html": [
       "<div>\n",
       "<style scoped>\n",
       "    .dataframe tbody tr th:only-of-type {\n",
       "        vertical-align: middle;\n",
       "    }\n",
       "\n",
       "    .dataframe tbody tr th {\n",
       "        vertical-align: top;\n",
       "    }\n",
       "\n",
       "    .dataframe thead th {\n",
       "        text-align: right;\n",
       "    }\n",
       "</style>\n",
       "<table border=\"1\" class=\"dataframe\">\n",
       "  <thead>\n",
       "    <tr style=\"text-align: right;\">\n",
       "      <th></th>\n",
       "      <th>auc</th>\n",
       "      <th>ic50</th>\n",
       "      <th>ec50</th>\n",
       "      <th>ec50se</th>\n",
       "      <th>r2fit</th>\n",
       "      <th>einf</th>\n",
       "      <th>hs</th>\n",
       "      <th>aac1</th>\n",
       "      <th>auc1</th>\n",
       "      <th>dss1</th>\n",
       "    </tr>\n",
       "  </thead>\n",
       "  <tbody>\n",
       "    <tr>\n",
       "      <th>0</th>\n",
       "      <td>0.7153</td>\n",
       "      <td>5.6600</td>\n",
       "      <td>5.6600</td>\n",
       "      <td>0.6867</td>\n",
       "      <td>0.9533</td>\n",
       "      <td>0.0000</td>\n",
       "      <td>0.6669</td>\n",
       "      <td>0.2240</td>\n",
       "      <td>0.7760</td>\n",
       "      <td>0.1661</td>\n",
       "    </tr>\n",
       "    <tr>\n",
       "      <th>2</th>\n",
       "      <td>0.4130</td>\n",
       "      <td>7.5460</td>\n",
       "      <td>7.5510</td>\n",
       "      <td>0.0385</td>\n",
       "      <td>0.9948</td>\n",
       "      <td>0.0082</td>\n",
       "      <td>1.3380</td>\n",
       "      <td>0.6909</td>\n",
       "      <td>0.3091</td>\n",
       "      <td>0.6605</td>\n",
       "    </tr>\n",
       "    <tr>\n",
       "      <th>3</th>\n",
       "      <td>0.8004</td>\n",
       "      <td>5.1980</td>\n",
       "      <td>5.1980</td>\n",
       "      <td>11.7100</td>\n",
       "      <td>0.9944</td>\n",
       "      <td>0.0000</td>\n",
       "      <td>4.0000</td>\n",
       "      <td>0.0392</td>\n",
       "      <td>0.9608</td>\n",
       "      <td>0.0291</td>\n",
       "    </tr>\n",
       "    <tr>\n",
       "      <th>4</th>\n",
       "      <td>0.5071</td>\n",
       "      <td>7.0930</td>\n",
       "      <td>7.1490</td>\n",
       "      <td>0.3175</td>\n",
       "      <td>0.8069</td>\n",
       "      <td>0.0607</td>\n",
       "      <td>1.0150</td>\n",
       "      <td>0.5470</td>\n",
       "      <td>0.4530</td>\n",
       "      <td>0.5037</td>\n",
       "    </tr>\n",
       "    <tr>\n",
       "      <th>5</th>\n",
       "      <td>0.5743</td>\n",
       "      <td>7.0040</td>\n",
       "      <td>7.0600</td>\n",
       "      <td>0.0128</td>\n",
       "      <td>0.9989</td>\n",
       "      <td>0.1652</td>\n",
       "      <td>3.1500</td>\n",
       "      <td>0.4675</td>\n",
       "      <td>0.5325</td>\n",
       "      <td>0.4438</td>\n",
       "    </tr>\n",
       "    <tr>\n",
       "      <th>...</th>\n",
       "      <td>...</td>\n",
       "      <td>...</td>\n",
       "      <td>...</td>\n",
       "      <td>...</td>\n",
       "      <td>...</td>\n",
       "      <td>...</td>\n",
       "      <td>...</td>\n",
       "      <td>...</td>\n",
       "      <td>...</td>\n",
       "      <td>...</td>\n",
       "    </tr>\n",
       "    <tr>\n",
       "      <th>587701</th>\n",
       "      <td>0.5650</td>\n",
       "      <td>6.5640</td>\n",
       "      <td>6.5640</td>\n",
       "      <td>6.4520</td>\n",
       "      <td>0.7647</td>\n",
       "      <td>0.0000</td>\n",
       "      <td>0.4202</td>\n",
       "      <td>0.1615</td>\n",
       "      <td>0.8385</td>\n",
       "      <td>0.0847</td>\n",
       "    </tr>\n",
       "    <tr>\n",
       "      <th>587702</th>\n",
       "      <td>0.8664</td>\n",
       "      <td>4.7660</td>\n",
       "      <td>4.7660</td>\n",
       "      <td>2.5700</td>\n",
       "      <td>0.9449</td>\n",
       "      <td>0.0000</td>\n",
       "      <td>1.2590</td>\n",
       "      <td>0.0472</td>\n",
       "      <td>0.9528</td>\n",
       "      <td>0.0196</td>\n",
       "    </tr>\n",
       "    <tr>\n",
       "      <th>587705</th>\n",
       "      <td>0.8190</td>\n",
       "      <td>3.0070</td>\n",
       "      <td>3.0070</td>\n",
       "      <td>46.7600</td>\n",
       "      <td>0.4604</td>\n",
       "      <td>0.0000</td>\n",
       "      <td>0.1818</td>\n",
       "      <td>0.1943</td>\n",
       "      <td>0.8057</td>\n",
       "      <td>0.1047</td>\n",
       "    </tr>\n",
       "    <tr>\n",
       "      <th>587707</th>\n",
       "      <td>0.9566</td>\n",
       "      <td>0.2428</td>\n",
       "      <td>0.2428</td>\n",
       "      <td>233.0000</td>\n",
       "      <td>0.1946</td>\n",
       "      <td>0.0000</td>\n",
       "      <td>0.2200</td>\n",
       "      <td>0.0438</td>\n",
       "      <td>0.9562</td>\n",
       "      <td>0.0000</td>\n",
       "    </tr>\n",
       "    <tr>\n",
       "      <th>587708</th>\n",
       "      <td>0.8426</td>\n",
       "      <td>4.7880</td>\n",
       "      <td>4.7880</td>\n",
       "      <td>2.8020</td>\n",
       "      <td>0.8616</td>\n",
       "      <td>0.0000</td>\n",
       "      <td>0.6938</td>\n",
       "      <td>0.1111</td>\n",
       "      <td>0.8889</td>\n",
       "      <td>0.0573</td>\n",
       "    </tr>\n",
       "  </tbody>\n",
       "</table>\n",
       "<p>359234 rows × 10 columns</p>\n",
       "</div>"
      ],
      "text/plain": [
       "           auc    ic50    ec50    ec50se   r2fit    einf      hs    aac1  \\\n",
       "0       0.7153  5.6600  5.6600    0.6867  0.9533  0.0000  0.6669  0.2240   \n",
       "2       0.4130  7.5460  7.5510    0.0385  0.9948  0.0082  1.3380  0.6909   \n",
       "3       0.8004  5.1980  5.1980   11.7100  0.9944  0.0000  4.0000  0.0392   \n",
       "4       0.5071  7.0930  7.1490    0.3175  0.8069  0.0607  1.0150  0.5470   \n",
       "5       0.5743  7.0040  7.0600    0.0128  0.9989  0.1652  3.1500  0.4675   \n",
       "...        ...     ...     ...       ...     ...     ...     ...     ...   \n",
       "587701  0.5650  6.5640  6.5640    6.4520  0.7647  0.0000  0.4202  0.1615   \n",
       "587702  0.8664  4.7660  4.7660    2.5700  0.9449  0.0000  1.2590  0.0472   \n",
       "587705  0.8190  3.0070  3.0070   46.7600  0.4604  0.0000  0.1818  0.1943   \n",
       "587707  0.9566  0.2428  0.2428  233.0000  0.1946  0.0000  0.2200  0.0438   \n",
       "587708  0.8426  4.7880  4.7880    2.8020  0.8616  0.0000  0.6938  0.1111   \n",
       "\n",
       "          auc1    dss1  \n",
       "0       0.7760  0.1661  \n",
       "2       0.3091  0.6605  \n",
       "3       0.9608  0.0291  \n",
       "4       0.4530  0.5037  \n",
       "5       0.5325  0.4438  \n",
       "...        ...     ...  \n",
       "587701  0.8385  0.0847  \n",
       "587702  0.9528  0.0196  \n",
       "587705  0.8057  0.1047  \n",
       "587707  0.9562  0.0000  \n",
       "587708  0.8889  0.0573  \n",
       "\n",
       "[359234 rows x 10 columns]"
      ]
     },
     "execution_count": 165,
     "metadata": {},
     "output_type": "execute_result"
    }
   ],
   "source": [
    "df2"
   ]
  },
  {
   "cell_type": "code",
   "execution_count": 166,
   "metadata": {},
   "outputs": [
    {
     "name": "stdout",
     "output_type": "stream",
     "text": [
      "0.022000684011985523\n",
      "0.035993252309079876\n"
     ]
    }
   ],
   "source": [
    "print(np.mean(df[\"auc\"] <= 0.4))\n",
    "print(np.mean(df2[\"auc\"] <= 0.4))"
   ]
  },
  {
   "cell_type": "code",
   "execution_count": 167,
   "metadata": {},
   "outputs": [
    {
     "name": "stdout",
     "output_type": "stream",
     "text": [
      "Number transactions X_train dataset:  (290979, 9)\n",
      "Number transactions y_train dataset:  (290979,)\n",
      "Number transactions X_test dataset:  (35924, 9)\n",
      "Number transactions y_test dataset:  (35924,)\n"
     ]
    }
   ],
   "source": [
    "# split into 70:30 ration\n",
    "X = df2.drop([\"auc\"], axis=1)\n",
    "y = df2[\"auc\"] <= 0.4\n",
    "\n",
    "sc = StandardScaler()\n",
    "\n",
    "X_scaled = sc.fit_transform(X)\n",
    "\n",
    "X_train, X_test, y_train, y_test = train_test_split(X_scaled, y, test_size=0.1, random_state=0)\n",
    "\n",
    "X_train, X_val, y_train, y_val = train_test_split(X_train, y_train, test_size=0.1, random_state=0)\n",
    "# X_train, X_test, y_train, y_test = train_test_split(X, y, test_size = 0.2, random_state = 0)\n",
    "\n",
    "# describes info about train and test set\n",
    "print(\"Number transactions X_train dataset: \", X_train.shape)\n",
    "print(\"Number transactions y_train dataset: \", y_train.shape)\n",
    "print(\"Number transactions X_test dataset: \", X_test.shape)\n",
    "print(\"Number transactions y_test dataset: \", y_test.shape)"
   ]
  },
  {
   "cell_type": "markdown",
   "metadata": {},
   "source": [
    "### Logistic Regression"
   ]
  },
  {
   "cell_type": "code",
   "execution_count": 168,
   "metadata": {},
   "outputs": [
    {
     "name": "stderr",
     "output_type": "stream",
     "text": [
      "/var/folders/w_/tv9kwn955c59q5gycbr00lzh0000gn/T/ipykernel_97003/102955174.py:5: FutureWarning: Series.ravel is deprecated. The underlying array is already 1D, so ravel is not necessary.  Use `to_numpy()` for conversion to a numpy array instead.\n",
      "  lr.fit(X_train, y_train.ravel())\n"
     ]
    },
    {
     "name": "stdout",
     "output_type": "stream",
     "text": [
      "              precision    recall  f1-score   support\n",
      "\n",
      "       False       1.00      1.00      1.00     31192\n",
      "        True       0.93      0.86      0.89      1139\n",
      "\n",
      "    accuracy                           0.99     32331\n",
      "   macro avg       0.96      0.93      0.94     32331\n",
      "weighted avg       0.99      0.99      0.99     32331\n",
      "\n",
      "[[31113    79]\n",
      " [  156   983]]\n"
     ]
    }
   ],
   "source": [
    "# logistic regression object\n",
    "lr = LogisticRegression()\n",
    "\n",
    "# train the model on train set\n",
    "lr.fit(X_train, y_train.ravel())\n",
    "\n",
    "predictions = lr.predict(X_val)\n",
    "\n",
    "# print classification report\n",
    "print(classification_report(y_val, predictions))\n",
    "print(confusion_matrix(y_val, predictions))"
   ]
  },
  {
   "cell_type": "markdown",
   "metadata": {},
   "source": [
    "### Random Forrest"
   ]
  },
  {
   "cell_type": "code",
   "execution_count": 169,
   "metadata": {},
   "outputs": [
    {
     "name": "stderr",
     "output_type": "stream",
     "text": [
      "/var/folders/w_/tv9kwn955c59q5gycbr00lzh0000gn/T/ipykernel_97003/1219419022.py:2: FutureWarning: Series.ravel is deprecated. The underlying array is already 1D, so ravel is not necessary.  Use `to_numpy()` for conversion to a numpy array instead.\n",
      "  rf.fit(X_train, y_train.ravel())\n"
     ]
    },
    {
     "name": "stdout",
     "output_type": "stream",
     "text": [
      "              precision    recall  f1-score   support\n",
      "\n",
      "       False       1.00      1.00      1.00     31192\n",
      "        True       0.98      0.98      0.98      1139\n",
      "\n",
      "    accuracy                           1.00     32331\n",
      "   macro avg       0.99      0.99      0.99     32331\n",
      "weighted avg       1.00      1.00      1.00     32331\n",
      "\n"
     ]
    }
   ],
   "source": [
    "rf = RandomForestClassifier(random_state=42)\n",
    "rf.fit(X_train, y_train.ravel())\n",
    "preds = rf.predict(X_val)\n",
    "\n",
    "print(classification_report(y_val, preds))"
   ]
  },
  {
   "cell_type": "code",
   "execution_count": 170,
   "metadata": {},
   "outputs": [
    {
     "data": {
      "text/plain": [
       "array([[31172,    20],\n",
       "       [   20,  1119]])"
      ]
     },
     "execution_count": 170,
     "metadata": {},
     "output_type": "execute_result"
    }
   ],
   "source": [
    "confusion_matrix(y_val, preds)"
   ]
  },
  {
   "cell_type": "markdown",
   "metadata": {},
   "source": [
    "## SMOTE Stuff"
   ]
  },
  {
   "cell_type": "code",
   "execution_count": 171,
   "metadata": {},
   "outputs": [
    {
     "name": "stdout",
     "output_type": "stream",
     "text": [
      "Before OverSampling, counts of label '1': 10495\n",
      "Before OverSampling, counts of label '0': 280484 \n",
      "\n"
     ]
    }
   ],
   "source": [
    "print(\"Before OverSampling, counts of label '1': {}\".format(sum(y_train == 1)))\n",
    "print(\"Before OverSampling, counts of label '0': {} \\n\".format(sum(y_train == 0)))"
   ]
  },
  {
   "cell_type": "code",
   "execution_count": 172,
   "metadata": {},
   "outputs": [
    {
     "name": "stdout",
     "output_type": "stream",
     "text": [
      "After OverSampling, the shape of train_X: (560968, 9)\n",
      "After OverSampling, the shape of train_y: (560968,) \n",
      "\n",
      "After OverSampling, counts of label '1': 280484\n"
     ]
    },
    {
     "name": "stderr",
     "output_type": "stream",
     "text": [
      "/var/folders/w_/tv9kwn955c59q5gycbr00lzh0000gn/T/ipykernel_97003/2503476786.py:2: FutureWarning: Series.ravel is deprecated. The underlying array is already 1D, so ravel is not necessary.  Use `to_numpy()` for conversion to a numpy array instead.\n",
      "  X_train_res, y_train_res = sm.fit_resample(X_train, y_train.ravel())\n"
     ]
    },
    {
     "name": "stdout",
     "output_type": "stream",
     "text": [
      "After OverSampling, counts of label '0': 280484\n"
     ]
    }
   ],
   "source": [
    "sm = SMOTE(random_state = 2)\n",
    "X_train_res, y_train_res = sm.fit_resample(X_train, y_train.ravel())\n",
    "print('After OverSampling, the shape of train_X: {}'.format(X_train_res.shape))\n",
    "print('After OverSampling, the shape of train_y: {} \\n'.format(y_train_res.shape))\n",
    "\n",
    "print(\"After OverSampling, counts of label '1': {}\".format(sum(y_train_res == 1)))\n",
    "print(\"After OverSampling, counts of label '0': {}\".format(sum(y_train_res == 0)))"
   ]
  },
  {
   "cell_type": "markdown",
   "metadata": {},
   "source": [
    "### Logistic Regression with Real Data"
   ]
  },
  {
   "cell_type": "code",
   "execution_count": 173,
   "metadata": {},
   "outputs": [
    {
     "name": "stdout",
     "output_type": "stream",
     "text": [
      "              precision    recall  f1-score   support\n",
      "\n",
      "       False       1.00      0.99      0.99     31192\n",
      "        True       0.72      1.00      0.84      1139\n",
      "\n",
      "    accuracy                           0.99     32331\n",
      "   macro avg       0.86      0.99      0.91     32331\n",
      "weighted avg       0.99      0.99      0.99     32331\n",
      "\n"
     ]
    },
    {
     "data": {
      "text/plain": [
       "array([[30750,   442],\n",
       "       [    1,  1138]])"
      ]
     },
     "execution_count": 173,
     "metadata": {},
     "output_type": "execute_result"
    }
   ],
   "source": [
    "lr1 = LogisticRegression()\n",
    "lr1.fit(X_train_res, y_train_res.ravel())\n",
    "predictions = lr1.predict(X_val)\n",
    "\n",
    "# print classification report\n",
    "print(classification_report(y_val, predictions))\n",
    "confusion_matrix(y_val, predictions)"
   ]
  },
  {
   "cell_type": "markdown",
   "metadata": {},
   "source": [
    "### Random Forrest"
   ]
  },
  {
   "cell_type": "code",
   "execution_count": 174,
   "metadata": {},
   "outputs": [
    {
     "name": "stdout",
     "output_type": "stream",
     "text": [
      "              precision    recall  f1-score   support\n",
      "\n",
      "       False       1.00      1.00      1.00     31192\n",
      "        True       0.96      1.00      0.98      1139\n",
      "\n",
      "    accuracy                           1.00     32331\n",
      "   macro avg       0.98      1.00      0.99     32331\n",
      "weighted avg       1.00      1.00      1.00     32331\n",
      "\n"
     ]
    }
   ],
   "source": [
    "rf = RandomForestClassifier(random_state=42)\n",
    "rf.fit(X_train_res, y_train_res.ravel())\n",
    "preds = rf.predict(X_val)\n",
    "\n",
    "print(classification_report(y_val, preds))"
   ]
  },
  {
   "cell_type": "code",
   "execution_count": 175,
   "metadata": {},
   "outputs": [
    {
     "data": {
      "text/plain": [
       "array([[31141,    51],\n",
       "       [    1,  1138]])"
      ]
     },
     "execution_count": 175,
     "metadata": {},
     "output_type": "execute_result"
    }
   ],
   "source": [
    "confusion_matrix(y_val, preds)"
   ]
  }
 ],
 "metadata": {
  "kernelspec": {
   "display_name": "base",
   "language": "python",
   "name": "python3"
  },
  "language_info": {
   "codemirror_mode": {
    "name": "ipython",
    "version": 3
   },
   "file_extension": ".py",
   "mimetype": "text/x-python",
   "name": "python",
   "nbconvert_exporter": "python",
   "pygments_lexer": "ipython3",
   "version": "3.12.4"
  }
 },
 "nbformat": 4,
 "nbformat_minor": 2
}
